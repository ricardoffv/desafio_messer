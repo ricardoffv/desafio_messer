{
 "cells": [
  {
   "cell_type": "markdown",
   "metadata": {},
   "source": [
    "## Insights sobre os dados\n",
    "\n",
    "Dada a base de dados das vendas, serão gerados alguns insights sobre os dados armazenados e serão comentados os comportamentos encontrados nas visualizações. O código inicial será realizado para armazenar os dados da base e criar algumas estruturas de dados a fim de facilitar o mapeamento das relações das tabelas."
   ]
  },
  {
   "cell_type": "code",
   "execution_count": 4,
   "metadata": {},
   "outputs": [],
   "source": [
    "import pyodbc\n",
    "import pandas as pd\n",
    "from database_information import *\n",
    "\n",
    "conn = pyodbc.connect('Driver={'+DRIVER_NAME+'}; Server='+SERVER_NAME+', '+str(PORT)+';Database='+DATABASE_NAME+';UID='+USER+'; PWD='+PASSWORD+';')\n",
    "conn.setencoding(encoding='utf-8')\n",
    "\n",
    "# Extracting database tables to dataframes\n",
    "query = \"SELECT * FROM SALES.dbo.FACTOR\"\n",
    "factors = pd.read_sql(query, conn)\n",
    "query = \"SELECT * FROM SALES.dbo.CUSTOMER\"\n",
    "customers = pd.read_sql(query, conn)\n",
    "query = \"SELECT * FROM SALES.dbo.SALE\"\n",
    "sales = pd.read_sql(query, conn)\n",
    "query = \"SELECT * FROM SALES.dbo.SALECOMMENT\"\n",
    "salecomments = pd.read_sql(query, conn)\n",
    "query = \"SELECT * FROM SALES.dbo.PRODUCT\"\n",
    "products = pd.read_sql(query, conn)\n",
    "query = \"SELECT * FROM SALES.dbo.CITY\"\n",
    "cities = pd.read_sql(query, conn)"
   ]
  },
  {
   "cell_type": "markdown",
   "metadata": {},
   "source": [
    "## Visualização de dados\n",
    "\n",
    "As informações de interesse a serem analisadas visualmente são referentes a:\n",
    "* Visualizações referente às vendas;\n",
    "* Distribuição das compras ao longo das cidades (quantidade e qualidade);\n",
    "* Observações em relação às vendas dos produtos;\n",
    "* Palavras mais recorrentes nos comentários e relação dos comentários à recorrência de compras por cliente."
   ]
  },
  {
   "cell_type": "markdown",
   "metadata": {},
   "source": [
    "### Visualizações das vendas\n",
    "\n",
    "A primeira visualização é referente a quantidade de um certo produto comprada em cada venda; o gráfico seguinte é referente à quantidade de clientes que comprou uma determinada quantidade de vezes, para analisar a fidelidade dos consumidores. Em seguida, será analisada a distribuição do valor gasto nas vendas."
   ]
  },
  {
   "cell_type": "code",
   "execution_count": 17,
   "metadata": {},
   "outputs": [
    {
     "name": "stdout",
     "output_type": "stream",
     "text": [
      "Quantidade de compras x quantidade de determinado produto\n"
     ]
    },
    {
     "data": {
      "image/png": "[encoded data removed]",
      "text/plain": [
       "<matplotlib.figure.Figure at 0x7f515be41fd0>"
      ]
     },
     "metadata": {},
     "output_type": "display_data"
    }
   ],
   "source": [
    "import numpy as np\n",
    "from matplotlib import pyplot as plt\n",
    "import seaborn as sns\n",
    "import wordcloud\n",
    "\n",
    "print('Quantidade de compras x quantidade de determinado produto')\n",
    "sales.Amount.hist(figsize=(7,7),grid=False, bins=5)\n",
    "plt.show()"
   ]
  },
  {
   "cell_type": "code",
   "execution_count": 63,
   "metadata": {},
   "outputs": [
    {
     "name": "stdout",
     "output_type": "stream",
     "text": [
      "Quantidade de compras feitas x quantidade de clientes que fizeram determinado número de compras\n",
      "   sale_count\n",
      "3           3\n",
      "2           3\n",
      "5           2\n",
      "4           2\n",
      "1           1\n",
      "Dessa forma, 3 clientes fizeram estritamente 3 compras cada, 3 diferentes clientes fizeram estritamente 2 compras cada, 2 diferentes clientes fizeram 5 compras cada, etc.\n"
     ]
    }
   ],
   "source": [
    "print('Quantidade de compras feitas x quantidade de clientes que fizeram determinado número de compras')\n",
    "customers_sales = Counter(sales['CustomerId'])\n",
    "df = pd.DataFrame.from_dict(customers_sales, orient='index')\n",
    "df.columns = ['sale_count']\n",
    "df_aux = df.sale_count.value_counts().to_frame()\n",
    "print(df_aux)\n",
    "\n",
    "print('Dessa forma, 3 clientes fizeram estritamente 3 compras cada, 3 diferentes clientes fizeram estritamente 2 compras cada, 2 diferentes clientes fizeram 5 compras cada, etc.')"
   ]
  },
  {
   "cell_type": "code",
   "execution_count": null,
   "metadata": {},
   "outputs": [],
   "source": [
    "print('Distribuição d')\n"
   ]
  },
  {
   "cell_type": "code",
   "execution_count": null,
   "metadata": {},
   "outputs": [],
   "source": []
  },
  {
   "cell_type": "code",
   "execution_count": null,
   "metadata": {},
   "outputs": [],
   "source": []
  },
  {
   "cell_type": "code",
   "execution_count": null,
   "metadata": {},
   "outputs": [],
   "source": []
  },
  {
   "cell_type": "code",
   "execution_count": null,
   "metadata": {},
   "outputs": [],
   "source": []
  },
  {
   "cell_type": "code",
   "execution_count": null,
   "metadata": {},
   "outputs": [],
   "source": []
  },
  {
   "cell_type": "code",
   "execution_count": null,
   "metadata": {},
   "outputs": [],
   "source": []
  },
  {
   "cell_type": "markdown",
   "metadata": {},
   "source": [
    "### Distribuição das vendas ao longo das cidades\n",
    "\n",
    "Análise, em gráfico de barras em relação ao total gasto nas cidades, além da quantidade total de compras.\n",
    "\n",
    "### Observações em relação às vendas dos produtos \n",
    "\n",
    "Será feita uma analise da incidência dos produtos nas vendas, quantidade vendida e valor gasto no total e por cidade.\n",
    "\n",
    "### Palavras mais recorrentes nos comentários e relação dos comentários à recorrência de compras por cliente\n",
    "\n",
    "Será gerado um word cloud dos comentários, com e sem agrupamento por produto. Em seguida, será feita uma análise em relação à recorrência das vendas e o comentário realizado.\n",
    "\n",
    "### Observações finais\n",
    "\n",
    "Podemos observar, em linhas gerais, que ...\n",
    "Mesmo com uma base de dados limpa e consistente, há necessidade de alguns dados considerados faltantes, como a ausência da data de ocorrência em todas as vendas, que é extraída pelo comentário, se existente; caso houvesse melhor rastreio desse atributo seria possível fazer uma análise de churn, verificando intervalos entre data de compra e até mesmo relacionando isso ao conteúdo dos comentários, se forem enviados."
   ]
  },
  {
   "cell_type": "code",
   "execution_count": null,
   "metadata": {},
   "outputs": [],
   "source": []
  },
  {
   "cell_type": "code",
   "execution_count": null,
   "metadata": {},
   "outputs": [],
   "source": []
  }
 ],
 "metadata": {
  "kernelspec": {
   "display_name": "Python 3",
   "language": "python",
   "name": "python3"
  },
  "language_info": {
   "codemirror_mode": {
    "name": "ipython",
    "version": 3
   },
   "file_extension": ".py",
   "mimetype": "text/x-python",
   "name": "python",
   "nbconvert_exporter": "python",
   "pygments_lexer": "ipython3",
   "version": "3.5.2"
  }
 },
 "nbformat": 4,
 "nbformat_minor": 2
}
